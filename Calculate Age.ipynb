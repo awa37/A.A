{
 "cells": [
  {
   "cell_type": "code",
   "execution_count": 2,
   "id": "2989c294-62cb-4c15-9fa3-9a1ae689046a",
   "metadata": {},
   "outputs": [
    {
     "name": "stdin",
     "output_type": "stream",
     "text": [
      "Enter the count of Fibonacci numbers to generate:  5\n"
     ]
    },
    {
     "name": "stdout",
     "output_type": "stream",
     "text": [
      "Fibonacci Sequence:\n",
      "0\n",
      "1\n",
      "1\n",
      "2\n",
      "3\n"
     ]
    }
   ],
   "source": [
    "def fibonacci_sequence(count):\n",
    "    fibonacci_series = [0, 1]  # Starting sequence\n",
    "    for i in range(2, count):\n",
    "        next_number = fibonacci_series[-1] + fibonacci_series[-2]\n",
    "        fibonacci_series.append(next_number)\n",
    "    return fibonacci_series\n",
    "\n",
    "def main():\n",
    "    count = int(input(\"Enter the count of Fibonacci numbers to generate: \"))\n",
    "    if count <= 0:\n",
    "        print(\"Please enter a positive integer.\")\n",
    "        return\n",
    "    sequence = fibonacci_sequence(count)\n",
    "    print(\"Fibonacci Sequence:\")\n",
    "    for num in sequence:\n",
    "        print(num)\n",
    "\n",
    "if __name__ == \"__main__\":\n",
    "    main()\n"
   ]
  }
 ],
 "metadata": {
  "kernelspec": {
   "display_name": "Python 3 (ipykernel)",
   "language": "python",
   "name": "python3"
  },
  "language_info": {
   "codemirror_mode": {
    "name": "ipython",
    "version": 3
   },
   "file_extension": ".py",
   "mimetype": "text/x-python",
   "name": "python",
   "nbconvert_exporter": "python",
   "pygments_lexer": "ipython3",
   "version": "3.11.7"
  }
 },
 "nbformat": 4,
 "nbformat_minor": 5
}
