{
 "cells": [
  {
   "cell_type": "code",
   "execution_count": 7,
   "id": "daa161f7-ccc6-4b30-a7f1-699f86b0ed10",
   "metadata": {},
   "outputs": [
    {
     "name": "stdout",
     "output_type": "stream",
     "text": [
      "John Doe's savings account balance: $500\n",
      "Jane Smith's chequing account balance: $800\n",
      "John Doe's transaction history:\n",
      "Transaction History:\n",
      "Deposited $500\n",
      "\n",
      "Jane Smith's transaction history:\n",
      "Transaction History:\n",
      "Withdrew $200\n",
      "\n"
     ]
    }
   ],
   "source": [
    "import os\n",
    "\n",
    "class BankAccount:\n",
    "    def __init__(self, name, account_type, balance=0):\n",
    "        self.name = name\n",
    "        self.account_type = account_type\n",
    "        self.balance = balance\n",
    "        self.account_id = self.generate_account_id()\n",
    "        self.statement_file = f\"{self.name}_{self.account_type}_{self.account_id}.txt\"\n",
    "        self.create_statement_file()\n",
    "\n",
    "    def generate_account_id(self):\n",
    "        # For simplicity, generating a unique account ID using a simple counter\n",
    "        # In real-world scenarios, a more robust method should be used\n",
    "        BankAccount.counter = getattr(BankAccount, 'counter', 0) + 1\n",
    "        return BankAccount.counter\n",
    "\n",
    "    def create_statement_file(self):\n",
    "        with open(self.statement_file, \"w\") as f:\n",
    "            f.write(\"Transaction History:\\n\")\n",
    "\n",
    "    def deposit(self, amount):\n",
    "        self.balance += amount\n",
    "        self.update_statement_file(f\"Deposited ${amount}\")\n",
    "\n",
    "    def withdraw(self, amount):\n",
    "        if amount > self.balance:\n",
    "            print(\"Insufficient funds.\")\n",
    "        else:\n",
    "            self.balance -= amount\n",
    "            self.update_statement_file(f\"Withdrew ${amount}\")\n",
    "\n",
    "    def get_balance(self):\n",
    "        return self.balance\n",
    "\n",
    "    def get_account_id(self):\n",
    "        return self.account_id\n",
    "\n",
    "    def get_name(self):\n",
    "        return self.name\n",
    "\n",
    "    def get_account_type(self):\n",
    "        return self.account_type\n",
    "\n",
    "    def get_transaction_history(self):\n",
    "        with open(self.statement_file, \"r\") as f:\n",
    "            return f.read()\n",
    "\n",
    "    def update_statement_file(self, transaction):\n",
    "        with open(self.statement_file, \"a\") as f:\n",
    "            f.write(f\"{transaction}\\n\")\n",
    "\n",
    "# Testing the BankAccount class\n",
    "if __name__ == \"__main__\":\n",
    "    # Create two bank accounts for testing\n",
    "    account1 = BankAccount(\"John Doe\", \"savings\")\n",
    "    account2 = BankAccount(\"Jane Smith\", \"chequing\", balance=1000)\n",
    "\n",
    "    # Deposit and withdraw money from the accounts\n",
    "    account1.deposit(500)\n",
    "    account2.withdraw(200)\n",
    "\n",
    "    # Print account details\n",
    "    print(f\"{account1.get_name()}'s {account1.get_account_type()} account balance: ${account1.get_balance()}\")\n",
    "    print(f\"{account2.get_name()}'s {account2.get_account_type()} account balance: ${account2.get_balance()}\")\n",
    "\n",
    "    # Print transaction history\n",
    "    print(f\"{account1.get_name()}'s transaction history:\\n{account1.get_transaction_history()}\")\n",
    "    print(f\"{account2.get_name()}'s transaction history:\\n{account2.get_transaction_history()}\")\n"
   ]
  },
  {
   "cell_type": "code",
   "execution_count": null,
   "id": "4e33f640-5b57-4a57-8470-87117aa6c276",
   "metadata": {},
   "outputs": [],
   "source": []
  }
 ],
 "metadata": {
  "kernelspec": {
   "display_name": "Python 3 (ipykernel)",
   "language": "python",
   "name": "python3"
  },
  "language_info": {
   "codemirror_mode": {
    "name": "ipython",
    "version": 3
   },
   "file_extension": ".py",
   "mimetype": "text/x-python",
   "name": "python",
   "nbconvert_exporter": "python",
   "pygments_lexer": "ipython3",
   "version": "3.11.7"
  }
 },
 "nbformat": 4,
 "nbformat_minor": 5
}
