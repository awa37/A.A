{
 "cells": [
  {
   "cell_type": "code",
   "execution_count": 5,
   "id": "28f720e3-2dbb-4942-88a7-d41710fb94e5",
   "metadata": {},
   "outputs": [
    {
     "name": "stdout",
     "output_type": "stream",
     "text": [
      "Name: Ahmed Aburakhia\n",
      "Age: 22\n",
      "Profession: Student\n",
      "Location: London,ON\n"
     ]
    }
   ],
   "source": [
    "def print_personal_information():\n",
    "    # Personal information (as an example, not real information)\n",
    "    name = \"Ahmed Aburakhia\"\n",
    "    age = 22\n",
    "    profession = \"Student\"\n",
    "    location = \"London,ON\"\n",
    "\n",
    "    # Printing the information\n",
    "    print(\"Name:\", name)\n",
    "    print(\"Age:\", age)\n",
    "    print(\"Profession:\", profession)\n",
    "    print(\"Location:\", location)\n",
    "\n",
    "# Call the function to print the information\n",
    "print_personal_information()\n"
   ]
  },
  {
   "cell_type": "code",
   "execution_count": null,
   "id": "1d80ae35-4688-474a-8032-1c97e98c290c",
   "metadata": {},
   "outputs": [],
   "source": []
  }
 ],
 "metadata": {
  "kernelspec": {
   "display_name": "anaconda-panel-2023.05-py310",
   "language": "python",
   "name": "conda-env-anaconda-panel-2023.05-py310-py"
  },
  "language_info": {
   "codemirror_mode": {
    "name": "ipython",
    "version": 3
   },
   "file_extension": ".py",
   "mimetype": "text/x-python",
   "name": "python",
   "nbconvert_exporter": "python",
   "pygments_lexer": "ipython3",
   "version": "3.11.5"
  }
 },
 "nbformat": 4,
 "nbformat_minor": 5
}
