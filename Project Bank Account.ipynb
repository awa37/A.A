import os

class BankAccount:
    def __init__(self, name, account_type, balance=0):
        self.name = name
        self.account_type = account_type
        self.balance = balance
        self.account_id = self.generate_account_id()
        self.statement_file = f"{self.name}_{self.account_type}_{self.account_id}.txt"
        self.create_statement_file()

    def generate_account_id(self):
        # For simplicity, generating a unique account ID using a simple counter
        # In real-world scenarios, a more robust method should be used
        BankAccount.counter = getattr(BankAccount, 'counter', 0) + 1
        return BankAccount.counter

    def create_statement_file(self):
        with open(self.statement_file, "w") as f:
            f.write("Transaction History:\n")

    def deposit(self, amount):
        self.balance += amount
        self.update_statement_file(f"Deposited ${amount}")

    def withdraw(self, amount):
        if amount > self.balance:
            print("Insufficient funds.")
        else:
            self.balance -= amount
            self.update_statement_file(f"Withdrew ${amount}")

    def get_balance(self):
        return self.balance

    def get_account_id(self):
        return self.account_id

    def get_name(self):
        return self.name

    def get_account_type(self):
        return self.account_type

    def get_transaction_history(self):
        with open(self.statement_file, "r") as f:
            return f.read()

    def update_statement_file(self, transaction):
        with open(self.statement_file, "a") as f:
            f.write(f"{transaction}\n")

# Testing the BankAccount class
if __name__ == "__main__":
    # Create two bank accounts for testing
    account1 = BankAccount("John Doe", "savings")
    account2 = BankAccount("Jane Smith", "chequing", balance=1000)

    # Deposit and withdraw money from the accounts
    account1.deposit(500)
    account2.withdraw(200)

    # Print account details
    print(f"{account1.get_name()}'s {account1.get_account_type()} account balance: ${account1.get_balance()}")
    print(f"{account2.get_name()}'s {account2.get_account_type()} account balance: ${account2.get_balance()}")

    # Print transaction history
    print(f"{account1.get_name()}'s transaction history:\n{account1.get_transaction_history()}")
    print(f"{account2.get_name()}'s transaction history:\n{account2.get_transaction_history()}")
