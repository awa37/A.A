{
 "cells": [
  {
   "cell_type": "code",
   "execution_count": 5,
   "id": "ddf14ad1-bc83-477c-8810-8ad54c5d934e",
   "metadata": {},
   "outputs": [
    {
     "name": "stdin",
     "output_type": "stream",
     "text": [
      "Enter the year the person was born or the item was created:  1974\n",
      "Enter the current year:  2024\n"
     ]
    },
    {
     "name": "stdout",
     "output_type": "stream",
     "text": [
      "The age is: 50\n"
     ]
    }
   ],
   "source": [
    "def calculate_age(start_year, end_year):\n",
    "    return end_year - start_year\n",
    "\n",
    "def main():\n",
    "    start_year = int(input(\"Enter the year the person was born or the item was created: \"))\n",
    "    end_year = int(input(\"Enter the current year: \"))\n",
    "\n",
    "    age = calculate_age(start_year, end_year)\n",
    "\n",
    "    print(\"The age is:\", age)\n",
    "\n",
    "if __name__ == \"__main__\":\n",
    "    main()\n"
   ]
  },
  {
   "cell_type": "code",
   "execution_count": null,
   "id": "daa161f7-ccc6-4b30-a7f1-699f86b0ed10",
   "metadata": {},
   "outputs": [],
   "source": []
  }
 ],
 "metadata": {
  "kernelspec": {
   "display_name": "Python 3 (ipykernel)",
   "language": "python",
   "name": "python3"
  },
  "language_info": {
   "codemirror_mode": {
    "name": "ipython",
    "version": 3
   },
   "file_extension": ".py",
   "mimetype": "text/x-python",
   "name": "python",
   "nbconvert_exporter": "python",
   "pygments_lexer": "ipython3",
   "version": "3.11.7"
  }
 },
 "nbformat": 4,
 "nbformat_minor": 5
}
